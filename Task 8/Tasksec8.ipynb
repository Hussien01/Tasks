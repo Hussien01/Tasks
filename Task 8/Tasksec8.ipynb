{
 "cells": [
  {
   "cell_type": "code",
   "execution_count": 29,
   "id": "5f8976c5",
   "metadata": {
    "ExecuteTime": {
     "end_time": "2023-08-21T14:11:01.924916Z",
     "start_time": "2023-08-21T14:10:54.823751Z"
    }
   },
   "outputs": [
    {
     "name": "stdout",
     "output_type": "stream",
     "text": [
      "Requirement already satisfied: pandas in e:\\anaconda\\lib\\site-packages (1.5.3)\n",
      "Requirement already satisfied: python-dateutil>=2.8.1 in e:\\anaconda\\lib\\site-packages (from pandas) (2.8.2)\n",
      "Requirement already satisfied: pytz>=2020.1 in e:\\anaconda\\lib\\site-packages (from pandas) (2022.7)\n",
      "Requirement already satisfied: numpy>=1.21.0 in e:\\anaconda\\lib\\site-packages (from pandas) (1.24.3)\n",
      "Requirement already satisfied: six>=1.5 in e:\\anaconda\\lib\\site-packages (from python-dateutil>=2.8.1->pandas) (1.16.0)\n",
      "Note: you may need to restart the kernel to use updated packages.\n"
     ]
    }
   ],
   "source": [
    "pip install pandas"
   ]
  },
  {
   "cell_type": "code",
   "execution_count": 31,
   "id": "07d9448a",
   "metadata": {
    "ExecuteTime": {
     "end_time": "2023-08-21T14:11:16.739829Z",
     "start_time": "2023-08-21T14:11:16.639578Z"
    }
   },
   "outputs": [
    {
     "name": "stdout",
     "output_type": "stream",
     "text": [
      "          names     numbers                   emails\n",
      "0  hussien farg  1200841433  hussienfarg89@gmail.com\n",
      "1   ahmed fathy  1094210433          ahmed@gmail.com\n"
     ]
    }
   ],
   "source": [
    "import pandas as pd\n",
    "\n",
    "file_path = r\"E:\\CourseAi\\Ai\\Tasks\\Task 8\\hus.csv\" \n",
    "\n",
    "data = pd.read_csv(file_path) \n",
    "print(data)"
   ]
  },
  {
   "cell_type": "code",
   "execution_count": 32,
   "id": "fefef0ed",
   "metadata": {
    "ExecuteTime": {
     "end_time": "2023-08-21T14:11:21.170252Z",
     "start_time": "2023-08-21T14:11:21.158351Z"
    }
   },
   "outputs": [
    {
     "data": {
      "text/html": [
       "<div>\n",
       "<style scoped>\n",
       "    .dataframe tbody tr th:only-of-type {\n",
       "        vertical-align: middle;\n",
       "    }\n",
       "\n",
       "    .dataframe tbody tr th {\n",
       "        vertical-align: top;\n",
       "    }\n",
       "\n",
       "    .dataframe thead th {\n",
       "        text-align: right;\n",
       "    }\n",
       "</style>\n",
       "<table border=\"1\" class=\"dataframe\">\n",
       "  <thead>\n",
       "    <tr style=\"text-align: right;\">\n",
       "      <th></th>\n",
       "      <th>names</th>\n",
       "      <th>numbers</th>\n",
       "      <th>emails</th>\n",
       "    </tr>\n",
       "  </thead>\n",
       "  <tbody>\n",
       "    <tr>\n",
       "      <th>0</th>\n",
       "      <td>hussien farg</td>\n",
       "      <td>1200841433</td>\n",
       "      <td>hussienfarg89@gmail.com</td>\n",
       "    </tr>\n",
       "    <tr>\n",
       "      <th>1</th>\n",
       "      <td>ahmed fathy</td>\n",
       "      <td>1094210433</td>\n",
       "      <td>ahmed@gmail.com</td>\n",
       "    </tr>\n",
       "  </tbody>\n",
       "</table>\n",
       "</div>"
      ],
      "text/plain": [
       "          names     numbers                   emails\n",
       "0  hussien farg  1200841433  hussienfarg89@gmail.com\n",
       "1   ahmed fathy  1094210433          ahmed@gmail.com"
      ]
     },
     "execution_count": 32,
     "metadata": {},
     "output_type": "execute_result"
    }
   ],
   "source": [
    "data.head()"
   ]
  },
  {
   "cell_type": "code",
   "execution_count": 37,
   "id": "f26e375c",
   "metadata": {
    "ExecuteTime": {
     "end_time": "2023-08-21T14:13:47.174030Z",
     "start_time": "2023-08-21T14:13:47.166277Z"
    }
   },
   "outputs": [
    {
     "name": "stdout",
     "output_type": "stream",
     "text": [
      "Names: ['hussien farg', 'ahmed fathy']\n",
      "Numbers: [1200841433, 1094210433]\n",
      "Emails: ['hussienfarg89@gmail.com', 'ahmed@gmail.com']\n"
     ]
    }
   ],
   "source": [
    "names= []\n",
    "numbers= []\n",
    "emails= []\n",
    "\n",
    "# Iterate through the DataFrame and extract data to lists\n",
    "for index, row in data.iterrows():\n",
    "    names.append(row['names'])       # Assuming the column name for names is 'Name'\n",
    "    numbers.append(row['numbers'])   # Assuming the column name for numbers is 'Number'\n",
    "    emails.append(row['emails'])     # Assuming the column name for emails is 'Email'\n",
    "\n",
    "# Print the lists\n",
    "print(\"Names:\", names)\n",
    "print(\"Numbers:\", numbers)\n",
    "print(\"Emails:\", emails)\n"
   ]
  }
 ],
 "metadata": {
  "kernelspec": {
   "display_name": "Python 3 (ipykernel)",
   "language": "python",
   "name": "python3"
  },
  "language_info": {
   "codemirror_mode": {
    "name": "ipython",
    "version": 3
   },
   "file_extension": ".py",
   "mimetype": "text/x-python",
   "name": "python",
   "nbconvert_exporter": "python",
   "pygments_lexer": "ipython3",
   "version": "3.11.3"
  }
 },
 "nbformat": 4,
 "nbformat_minor": 5
}
