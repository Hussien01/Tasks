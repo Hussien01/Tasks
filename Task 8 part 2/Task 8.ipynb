{
 "cells": [
  {
   "cell_type": "code",
   "execution_count": 1,
   "id": "a7e4c6f3",
   "metadata": {
    "ExecuteTime": {
     "end_time": "2023-08-24T14:59:14.012801Z",
     "start_time": "2023-08-24T14:59:13.971293Z"
    }
   },
   "outputs": [
    {
     "name": "stdout",
     "output_type": "stream",
     "text": [
      "Extracted Names: ['Hussien Farg', 'ahmed fathy']\n",
      "Extracted Numbers: ['01200841433', '01094210433']\n",
      "Extracted Emails: ['hussienfarg@gmail.com', 'ahmed@gmail.com']\n"
     ]
    }
   ],
   "source": [
    "import re\n",
    "\n",
    "file_path = \"hus.txt\"  \n",
    "with open(file_path, 'r') as file:\n",
    "    content = file.read()\n",
    "\n",
    "name_pattern = re.compile(r\"(\\w+ \\w+)\")\n",
    "number_pattern = re.compile(r\"(\\d+)\")\n",
    "email_pattern = re.compile(r\"([a-zA-Z0-9._%+-]+@[a-zA-Z0-9.-]+\\.[a-zA-Z]{2,4})\")\n",
    "\n",
    "name_matches = name_pattern.finditer(content)\n",
    "number_matches = number_pattern.finditer(content)\n",
    "email_matches = email_pattern.finditer(content)\n",
    "\n",
    "extracted_names = []\n",
    "extracted_numbers = []\n",
    "extracted_emails = []\n",
    "\n",
    "for match in name_matches:\n",
    "    extracted_names.append(match.group(1))\n",
    "\n",
    "for match in number_matches:\n",
    "    extracted_numbers.append(match.group(1))\n",
    "\n",
    "for match in email_matches:\n",
    "    extracted_emails.append(match.group(1))\n",
    "\n",
    "print(\"Extracted Names:\", extracted_names)\n",
    "print(\"Extracted Numbers:\", extracted_numbers)\n",
    "print(\"Extracted Emails:\", extracted_emails)\n"
   ]
  },
  {
   "cell_type": "code",
   "execution_count": null,
   "id": "6da693a3",
   "metadata": {},
   "outputs": [],
   "source": []
  }
 ],
 "metadata": {
  "kernelspec": {
   "display_name": "Python 3 (ipykernel)",
   "language": "python",
   "name": "python3"
  },
  "language_info": {
   "codemirror_mode": {
    "name": "ipython",
    "version": 3
   },
   "file_extension": ".py",
   "mimetype": "text/x-python",
   "name": "python",
   "nbconvert_exporter": "python",
   "pygments_lexer": "ipython3",
   "version": "3.11.3"
  }
 },
 "nbformat": 4,
 "nbformat_minor": 5
}
