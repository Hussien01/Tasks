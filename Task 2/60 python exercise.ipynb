{
 "cells": [
  {
   "cell_type": "markdown",
   "id": "759d04ba",
   "metadata": {},
   "source": [
    "**1-Write a Python program to calculate the length of a string using 2 ways**"
   ]
  },
  {
   "cell_type": "code",
   "execution_count": 17,
   "id": "e434c950",
   "metadata": {},
   "outputs": [
    {
     "name": "stdout",
     "output_type": "stream",
     "text": [
      "hussien\n",
      "7\n"
     ]
    }
   ],
   "source": [
    "name = input()\n",
    "print(len(name))"
   ]
  },
  {
   "cell_type": "code",
   "execution_count": 18,
   "id": "7a2dfa32",
   "metadata": {},
   "outputs": [
    {
     "name": "stdout",
     "output_type": "stream",
     "text": [
      "7\n"
     ]
    }
   ],
   "source": [
    "counter = 0\n",
    "for char in name:\n",
    "    counter+=1\n",
    "print(counter)"
   ]
  },
  {
   "cell_type": "markdown",
   "id": "d7cc9da7",
   "metadata": {},
   "source": [
    "**2-Write a Python program to get a string made of the first 2 and last 2 characters of a given string. If the string length is less than 2, return the empty string instead (\"##Sample String : 'w3resource'\n",
    "Expected Result : 'w3ce'\n",
    "##Sample String : 'w3'\n",
    "Expected Result : 'w3w3'\n",
    "##Sample String : ' w'\n",
    "Expected Result : Empty String)**"
   ]
  },
  {
   "cell_type": "code",
   "execution_count": 2,
   "id": "dafa9dd8",
   "metadata": {},
   "outputs": [
    {
     "name": "stdout",
     "output_type": "stream",
     "text": [
      "w3resource\n",
      "w3ce\n"
     ]
    }
   ],
   "source": [
    "x = input()\n",
    "if len(x) <2 :\n",
    "    print(\" \")\n",
    "elif len==2:\n",
    "    print(x+x)\n",
    "else:\n",
    "    print(x[0:2]+x[-2:])"
   ]
  },
  {
   "cell_type": "markdown",
   "id": "1534f956",
   "metadata": {},
   "source": [
    "**3-Write a Python program to add 'ing' at the end of a given string (length should be at least 3). If the given string already ends with 'ing', add 'ly' instead. If the string length of the given string is less than 3, leave it unchanged. (Sample String : 'abc'\n",
    "Expected Result : 'abcing')**"
   ]
  },
  {
   "cell_type": "code",
   "execution_count": 6,
   "id": "7ff8cec4",
   "metadata": {},
   "outputs": [
    {
     "name": "stdout",
     "output_type": "stream",
     "text": [
      "abc\n",
      "abcing\n"
     ]
    }
   ],
   "source": [
    "c = input()\n",
    "if len(c) < 3:\n",
    "    print(c)\n",
    "else:\n",
    "    if c[-3:] == \"ing\":\n",
    "        print(c[0:-3]+\"ly\")\n",
    "    else:\n",
    "        print(c+\"ing\")"
   ]
  },
  {
   "cell_type": "markdown",
   "id": "1c0a6627",
   "metadata": {},
   "source": [
    "**4-Write a Python function that takes a list of words and return the longest word and the length of the longest one\n",
    "(Longest word: Exercises\n",
    "Length of the longest word: 9)**"
   ]
  },
  {
   "cell_type": "code",
   "execution_count": 12,
   "id": "397341d9",
   "metadata": {},
   "outputs": [],
   "source": [
    "x = ['Hussien','Ahmed','Hamza','Fathy']\n",
    "def returnmaxlength():\n",
    "    counter = 0\n",
    "    maxword = None\n",
    "    \n",
    "    for word in x:\n",
    "        if len(word) > counter:\n",
    "            counter = len(word)\n",
    "            maxword = word\n",
    "    return counter, maxword"
   ]
  },
  {
   "cell_type": "code",
   "execution_count": 13,
   "id": "16979ac9",
   "metadata": {},
   "outputs": [
    {
     "data": {
      "text/plain": [
       "(7, 'Hussien')"
      ]
     },
     "execution_count": 13,
     "metadata": {},
     "output_type": "execute_result"
    }
   ],
   "source": [
    "returnmaxlength()"
   ]
  },
  {
   "cell_type": "markdown",
   "id": "53a03a6a",
   "metadata": {},
   "source": [
    "**5-Write a Python program to change a given string to a newly string where the first and last chars have been exchanged using 2 ways (Sample String:abca  Expected Result:ebce)"
   ]
  },
  {
   "cell_type": "code",
   "execution_count": 14,
   "id": "fd327d2a",
   "metadata": {},
   "outputs": [
    {
     "name": "stdout",
     "output_type": "stream",
     "text": [
      "Hussien\n",
      "nussieH\n"
     ]
    }
   ],
   "source": [
    "name = input()\n",
    "print(name[-1]+name[1:-1]+name[0])"
   ]
  },
  {
   "cell_type": "code",
   "execution_count": 15,
   "id": "285788b4",
   "metadata": {},
   "outputs": [
    {
     "name": "stdout",
     "output_type": "stream",
     "text": [
      "Hussien\n",
      "nussieH\n"
     ]
    }
   ],
   "source": [
    "name = input()\n",
    "a = name[-1]\n",
    "b = name[0]\n",
    "c = name[1:-1]\n",
    "print(a+c+b)"
   ]
  },
  {
   "cell_type": "markdown",
   "id": "25f89808",
   "metadata": {},
   "source": [
    "**6-Write a Python program to remove characters that have odd index values in a given string (Sample String:abca Expected Result:ac)**"
   ]
  },
  {
   "cell_type": "code",
   "execution_count": 17,
   "id": "05959bd7",
   "metadata": {},
   "outputs": [
    {
     "name": "stdout",
     "output_type": "stream",
     "text": [
      "abca\n",
      "ac\n"
     ]
    }
   ],
   "source": [
    "name = input()\n",
    "print(name[0::2])"
   ]
  },
  {
   "cell_type": "markdown",
   "id": "eb16e898",
   "metadata": {},
   "source": [
    "**7-Write a Python program to count the occurrences of each word in a given sentence (Sample String:amr and ahmed are frindes but amr is the tallest Expected Result:2)**"
   ]
  },
  {
   "cell_type": "code",
   "execution_count": 18,
   "id": "01ce6cf5",
   "metadata": {},
   "outputs": [
    {
     "name": "stdout",
     "output_type": "stream",
     "text": [
      "amr 2\n",
      "and 1\n",
      "ahmed 1\n",
      "are 1\n",
      "frindes 1\n",
      "but 1\n",
      "amr 2\n",
      "is 1\n",
      "the 1\n",
      "tallest 1\n"
     ]
    }
   ],
   "source": [
    "s = \"amr and ahmed are frindes but amr is the tallest\"\n",
    "words = s.split()\n",
    "for i in words:\n",
    "    print(i, s.count(i))"
   ]
  },
  {
   "cell_type": "markdown",
   "id": "4e8125f1",
   "metadata": {},
   "source": [
    "**8-Write a Python script that takes input from the user and displays that input back in upper and lower cases**"
   ]
  },
  {
   "cell_type": "code",
   "execution_count": 20,
   "id": "66c8f778",
   "metadata": {},
   "outputs": [
    {
     "name": "stdout",
     "output_type": "stream",
     "text": [
      "hussien\n",
      "HUSSIEN\n",
      "hussien\n"
     ]
    }
   ],
   "source": [
    "name = input()\n",
    "print(name.upper())\n",
    "print(name.lower())"
   ]
  },
  {
   "cell_type": "markdown",
   "id": "fcd68aa1",
   "metadata": {},
   "source": [
    "**9-Write a Python function to reverse a string if its length is a multiple of 4**"
   ]
  },
  {
   "cell_type": "code",
   "execution_count": 26,
   "id": "0671a931",
   "metadata": {},
   "outputs": [
    {
     "name": "stdout",
     "output_type": "stream",
     "text": [
      "Hussien\n",
      "Hussien\n"
     ]
    }
   ],
   "source": [
    "name = input()\n",
    "if len(name) % 4 == 0:\n",
    "    print(name[::-1])\n",
    "else:\n",
    "    print(name)"
   ]
  },
  {
   "cell_type": "markdown",
   "id": "b577c68d",
   "metadata": {},
   "source": [
    "**10- Write a Python program to remove a newline in Python**"
   ]
  },
  {
   "cell_type": "code",
   "execution_count": 30,
   "id": "e0c6525a",
   "metadata": {},
   "outputs": [
    {
     "data": {
      "text/plain": [
       "'hussien farg fathy'"
      ]
     },
     "execution_count": 30,
     "metadata": {},
     "output_type": "execute_result"
    }
   ],
   "source": [
    "string = '''hussien\n",
    "farg\n",
    "fathy'''\n",
    "string = string.replace(\"\\n\", \" \")\n",
    "string"
   ]
  },
  {
   "cell_type": "markdown",
   "id": "80db5ae0",
   "metadata": {},
   "source": [
    "**11-Write a Python program to check whether a string starts with a specific characters**"
   ]
  },
  {
   "cell_type": "code",
   "execution_count": 1,
   "id": "0cc4e03e",
   "metadata": {},
   "outputs": [
    {
     "name": "stdout",
     "output_type": "stream",
     "text": [
      "Ahmed\n",
      "Yes\n"
     ]
    }
   ],
   "source": [
    "name = input()\n",
    "ch = 'A'\n",
    "if name[0] == ch :\n",
    "    print(\"Yes\")\n",
    "else:\n",
    "    print(\"No\")"
   ]
  },
  {
   "cell_type": "markdown",
   "id": "593a68db",
   "metadata": {},
   "source": [
    "**12- Write a Python program to add prefix text to all of the lines in a string**"
   ]
  },
  {
   "cell_type": "code",
   "execution_count": 7,
   "id": "d2e46ada",
   "metadata": {},
   "outputs": [
    {
     "name": "stdout",
     "output_type": "stream",
     "text": [
      "Eng Ahmed\n",
      "Eng Hussien\n",
      "Eng Fathy\n"
     ]
    }
   ],
   "source": [
    "name = '''Ahmed\n",
    "Hussien\n",
    "Fathy'''\n",
    "lines = name.splitlines()\n",
    "\n",
    "for line in lines :\n",
    "    print('Eng',line)"
   ]
  },
  {
   "cell_type": "markdown",
   "id": "86fa1543",
   "metadata": {},
   "source": [
    "**13-Write a Python program to print numbers up to 2 decimal places**"
   ]
  },
  {
   "cell_type": "code",
   "execution_count": 3,
   "id": "cd4a9d89",
   "metadata": {},
   "outputs": [
    {
     "name": "stdout",
     "output_type": "stream",
     "text": [
      "Please enter your number: 3.555\n"
     ]
    },
    {
     "data": {
      "text/plain": [
       "3.56"
      ]
     },
     "execution_count": 3,
     "metadata": {},
     "output_type": "execute_result"
    }
   ],
   "source": [
    "number = float(input(\"Please enter your number: \"))\n",
    "round(number,2)"
   ]
  },
  {
   "cell_type": "markdown",
   "id": "452c0ab0",
   "metadata": {},
   "source": [
    "**14-Write a Python program to print the following numbers up to 2 decimal places with a sign**"
   ]
  },
  {
   "cell_type": "code",
   "execution_count": 5,
   "id": "73e82479",
   "metadata": {},
   "outputs": [
    {
     "name": "stdout",
     "output_type": "stream",
     "text": [
      "Please enter your number: 2.5555\n",
      "+2.55\n"
     ]
    }
   ],
   "source": [
    "number = float(input(\"Please enter your number: \"))\n",
    "if number >= 0:\n",
    "    print('+'+str(number)[0:4])\n",
    "else:\n",
    "    print('-'+str(number)[0:4])"
   ]
  },
  {
   "cell_type": "markdown",
   "id": "32b1811a",
   "metadata": {},
   "source": [
    "**15-Write a Python program to display a number with a comma separator**"
   ]
  },
  {
   "cell_type": "code",
   "execution_count": 12,
   "id": "f30fc0b6",
   "metadata": {},
   "outputs": [
    {
     "name": "stdout",
     "output_type": "stream",
     "text": [
      "1,000\n",
      "12,345\n",
      "987,654,321\n",
      "1,234,567\n"
     ]
    }
   ],
   "source": [
    "import locale\n",
    "\n",
    "def format_number_with_commas(number):\n",
    "    \n",
    "    locale.setlocale(locale.LC_ALL, '')\n",
    "    return locale.format_string(\"%d\", number, grouping=True)\n",
    "\n",
    "\n",
    "numbers = [1000, 12345, 987654321, 1234567]\n",
    "for num in numbers:\n",
    "    print(format_number_with_commas(num))\n"
   ]
  },
  {
   "cell_type": "markdown",
   "id": "0477f487",
   "metadata": {},
   "source": [
    "**16-Write a Python program to reverse a string using 2 ways**"
   ]
  },
  {
   "cell_type": "code",
   "execution_count": 13,
   "id": "aa8beec8",
   "metadata": {},
   "outputs": [
    {
     "name": "stdout",
     "output_type": "stream",
     "text": [
      "Please enter your name: hussien farg\n"
     ]
    },
    {
     "data": {
      "text/plain": [
       "'graf neissuh'"
      ]
     },
     "execution_count": 13,
     "metadata": {},
     "output_type": "execute_result"
    }
   ],
   "source": [
    "name = input(\"Please enter your name: \")\n",
    "reversedname= name[::-1]\n",
    "reversedname"
   ]
  },
  {
   "cell_type": "code",
   "execution_count": 15,
   "id": "311de5b3",
   "metadata": {},
   "outputs": [
    {
     "name": "stdout",
     "output_type": "stream",
     "text": [
      "Please enter your name: hussien farg\n",
      "graf neissuh"
     ]
    }
   ],
   "source": [
    "name = input(\"Please enter your name: \")\n",
    "for i in range(len(name)-1,-1,-1):\n",
    "    print(name[i], end=\"\" )\n"
   ]
  },
  {
   "cell_type": "markdown",
   "id": "5afc3166",
   "metadata": {},
   "source": [
    " **17-Write a Python program to count repeated characters in a string (hint:use dictionary)**"
   ]
  },
  {
   "cell_type": "code",
   "execution_count": 19,
   "id": "515a469c",
   "metadata": {},
   "outputs": [
    {
     "name": "stdout",
     "output_type": "stream",
     "text": [
      "Please enter your name: hussienfarg\n"
     ]
    },
    {
     "data": {
      "text/plain": [
       "{'h': 1,\n",
       " 'u': 1,\n",
       " 's': 2,\n",
       " 'i': 1,\n",
       " 'e': 1,\n",
       " 'n': 1,\n",
       " 'f': 1,\n",
       " 'a': 1,\n",
       " 'r': 1,\n",
       " 'g': 1}"
      ]
     },
     "execution_count": 19,
     "metadata": {},
     "output_type": "execute_result"
    }
   ],
   "source": [
    "name = input(\"Please enter your name: \")\n",
    "chs = []\n",
    "for i in name:\n",
    "    chs.append(i)\n",
    "    \n",
    "dic = dict()\n",
    "for i in chs:\n",
    "    dic[i] = name.count(i)\n",
    "dic"
   ]
  },
  {
   "cell_type": "markdown",
   "id": "ae14e4e5",
   "metadata": {},
   "source": [
    "**18-Write a Python program to find the first non-repeating character in a given string**"
   ]
  },
  {
   "cell_type": "code",
   "execution_count": 23,
   "id": "d73778e5",
   "metadata": {},
   "outputs": [
    {
     "name": "stdout",
     "output_type": "stream",
     "text": [
      "y\n"
     ]
    }
   ],
   "source": [
    "name = \"aagghhyuu\"\n",
    "for i in name:\n",
    "    if name.count(i) == 1:\n",
    "        print(i)\n",
    "        break"
   ]
  },
  {
   "cell_type": "markdown",
   "id": "3adf5669",
   "metadata": {},
   "source": [
    "**19-Write a Python program to remove spaces from a given string**"
   ]
  },
  {
   "cell_type": "code",
   "execution_count": 24,
   "id": "b4f22602",
   "metadata": {},
   "outputs": [
    {
     "data": {
      "text/plain": [
       "'hussienfarg'"
      ]
     },
     "execution_count": 24,
     "metadata": {},
     "output_type": "execute_result"
    }
   ],
   "source": [
    "name = 'hussien  farg '\n",
    "newname = name.replace(' ','')\n",
    "newname"
   ]
  },
  {
   "cell_type": "markdown",
   "id": "734de60c",
   "metadata": {},
   "source": [
    "**20-Write a Python program to count the number of non-empty substrings of a given string**"
   ]
  },
  {
   "cell_type": "code",
   "execution_count": 2,
   "id": "ef3f2274",
   "metadata": {},
   "outputs": [
    {
     "data": {
      "text/plain": [
       "28"
      ]
     },
     "execution_count": 2,
     "metadata": {},
     "output_type": "execute_result"
    }
   ],
   "source": [
    "def number_of_supstring(str):\n",
    "    str_len = len(str)\n",
    "    return int(str_len * (str_len + 1) / 2 )\n",
    "number_of_supstring(\"hussien\")"
   ]
  },
  {
   "cell_type": "markdown",
   "id": "509998e2",
   "metadata": {},
   "source": [
    "**21-write a Python program to swap first and last element of any list.**"
   ]
  },
  {
   "cell_type": "code",
   "execution_count": 3,
   "id": "68692d7f",
   "metadata": {},
   "outputs": [
    {
     "data": {
      "text/plain": [
       "['Hamza', 'Hussien', 'fathy', 'Ahmed']"
      ]
     },
     "execution_count": 3,
     "metadata": {},
     "output_type": "execute_result"
    }
   ],
   "source": [
    "l = ['Ahmed','Hussien','fathy','Hamza']\n",
    "l[0] , l[-1] = l[-1] , l[0]\n",
    "l"
   ]
  },
  {
   "cell_type": "markdown",
   "id": "959e0837",
   "metadata": {},
   "source": [
    "**22-Given a list in Python and provided the positions of the elements, write a program to swap the two elements in the list. (Input : List = [23, 65, 19, 90], pos1 = 1, pos2 = 3\n",
    "Output : [19, 65, 23, 90])**"
   ]
  },
  {
   "cell_type": "code",
   "execution_count": 4,
   "id": "225d8c6d",
   "metadata": {},
   "outputs": [
    {
     "name": "stdout",
     "output_type": "stream",
     "text": [
      "2\n",
      "1\n"
     ]
    },
    {
     "data": {
      "text/plain": [
       "[1, 3, 2, 5, 6]"
      ]
     },
     "execution_count": 4,
     "metadata": {},
     "output_type": "execute_result"
    }
   ],
   "source": [
    "l = [1,2,3,5,6]\n",
    "pos1 = int(input())\n",
    "pos2 = int(input())\n",
    "l[pos1] , l[pos2] = l[pos2] , l[pos1]\n",
    "l"
   ]
  },
  {
   "cell_type": "markdown",
   "id": "66fc6682",
   "metadata": {},
   "source": [
    "**23- search for the all ways to know the length of the list**"
   ]
  },
  {
   "cell_type": "code",
   "execution_count": 9,
   "id": "99a5318c",
   "metadata": {},
   "outputs": [
    {
     "name": "stdout",
     "output_type": "stream",
     "text": [
      "6\n"
     ]
    }
   ],
   "source": [
    "l = [1,2,3,4,5,6]\n",
    "print(len(l))"
   ]
  },
  {
   "cell_type": "code",
   "execution_count": 8,
   "id": "33240d75",
   "metadata": {},
   "outputs": [
    {
     "name": "stdout",
     "output_type": "stream",
     "text": [
      "6\n"
     ]
    }
   ],
   "source": [
    "l = [1,2,3,4,5,6]\n",
    "counter = 0\n",
    "for i in l:\n",
    "    counter+=1\n",
    "print(counter)"
   ]
  },
  {
   "cell_type": "markdown",
   "id": "6350bf54",
   "metadata": {},
   "source": [
    "**24-write a Python code to find the Maximum number of list of numbers.**"
   ]
  },
  {
   "cell_type": "code",
   "execution_count": 1,
   "id": "de31b8d3",
   "metadata": {},
   "outputs": [
    {
     "data": {
      "text/plain": [
       "200"
      ]
     },
     "execution_count": 1,
     "metadata": {},
     "output_type": "execute_result"
    }
   ],
   "source": [
    "max([1,2,3,5,8,7,2,100,200])"
   ]
  },
  {
   "cell_type": "markdown",
   "id": "9a3266ab",
   "metadata": {},
   "source": [
    "**25-write a Python code to find the Minimum number of list of numbers.**"
   ]
  },
  {
   "cell_type": "code",
   "execution_count": 12,
   "id": "21f8cbd6",
   "metadata": {},
   "outputs": [
    {
     "data": {
      "text/plain": [
       "1"
      ]
     },
     "execution_count": 12,
     "metadata": {},
     "output_type": "execute_result"
    }
   ],
   "source": [
    "min([1,2,3,5,8,7,2,100,200])"
   ]
  },
  {
   "cell_type": "markdown",
   "id": "96822d96",
   "metadata": {},
   "source": [
    "**26-search for if an elem is existing in list**"
   ]
  },
  {
   "cell_type": "code",
   "execution_count": 3,
   "id": "51ca5c9a",
   "metadata": {},
   "outputs": [
    {
     "name": "stdout",
     "output_type": "stream",
     "text": [
      "Ahmed does not exist in the list.\n"
     ]
    }
   ],
   "source": [
    "def check_element_in_list(element, my_list):\n",
    "    if element in my_list:\n",
    "        return True\n",
    "    else:\n",
    "        return False\n",
    "\n",
    "my_list = [1, 2, 3, 4, 5]\n",
    "element_to_check = \"Ahmed\"\n",
    "\n",
    "if check_element_in_list(element_to_check, my_list):\n",
    "    print(f\"{element_to_check} exists in the list.\")\n",
    "else:\n",
    "    print(f\"{element_to_check} does not exist in the list.\")\n"
   ]
  },
  {
   "cell_type": "markdown",
   "id": "d9557da7",
   "metadata": {},
   "source": [
    "**27- clear python list using different ways**"
   ]
  },
  {
   "cell_type": "code",
   "execution_count": 5,
   "id": "b69858a3",
   "metadata": {},
   "outputs": [
    {
     "data": {
      "text/plain": [
       "[]"
      ]
     },
     "execution_count": 5,
     "metadata": {},
     "output_type": "execute_result"
    }
   ],
   "source": [
    "l = [1,2,3,4,5]\n",
    "l.clear()\n",
    "l"
   ]
  },
  {
   "cell_type": "code",
   "execution_count": 7,
   "id": "6ffcf88a",
   "metadata": {},
   "outputs": [
    {
     "data": {
      "text/plain": [
       "[]"
      ]
     },
     "execution_count": 7,
     "metadata": {},
     "output_type": "execute_result"
    }
   ],
   "source": [
    "l = [1,2,3,4,5]\n",
    "while len(l) != 0:\n",
    "    l.pop()\n",
    "l"
   ]
  },
  {
   "cell_type": "markdown",
   "id": "52160e88",
   "metadata": {},
   "source": [
    "**28-remove duplicated elements from a list**"
   ]
  },
  {
   "cell_type": "code",
   "execution_count": 9,
   "id": "5e362228",
   "metadata": {},
   "outputs": [
    {
     "data": {
      "text/plain": [
       "[1, 2, 3, 4, 5]"
      ]
     },
     "execution_count": 9,
     "metadata": {},
     "output_type": "execute_result"
    }
   ],
   "source": [
    "l = [1,2,3,4,5,5,1,2,3,4]\n",
    "l = set(l)\n",
    "l = list(l)\n",
    "l"
   ]
  },
  {
   "cell_type": "markdown",
   "id": "282337f7",
   "metadata": {},
   "source": [
    "**29-Given list values and keys list, convert these values to key value pairs in form of list of dictionaries. (Input : test_list = [“Gfg”, 3, “is”, 8], key_list = [“name”, “id”]\n",
    "Output : [{‘name’: ‘Gfg’, ‘id’: 3}, {‘name’: ‘is’, ‘id’: 8}])**"
   ]
  },
  {
   "cell_type": "code",
   "execution_count": 20,
   "id": "4d4e2d28",
   "metadata": {},
   "outputs": [
    {
     "name": "stdout",
     "output_type": "stream",
     "text": [
      "{'name': 'Ahmed', 'Age': 21, 'Salary': 10000}\n"
     ]
    }
   ],
   "source": [
    "keys = ['name', 'Age', 'Salary']\n",
    "values = ['Ahmed', 21, 10000]\n",
    "d = dict()\n",
    "\n",
    "for i in range(len(keys)):\n",
    "    d[keys[i]] = values[i]\n",
    "\n",
    "print(d)\n"
   ]
  },
  {
   "cell_type": "markdown",
   "id": "c26b6e9f",
   "metadata": {},
   "source": [
    "**30-write a python program to count unique values inside a list using different ways**"
   ]
  },
  {
   "cell_type": "code",
   "execution_count": 21,
   "id": "72132667",
   "metadata": {},
   "outputs": [
    {
     "name": "stdout",
     "output_type": "stream",
     "text": [
      "6\n"
     ]
    }
   ],
   "source": [
    "my_list = [1, 2, 3, 2, 4, 3, 5, 6, 1]\n",
    "unique_count = len(set(my_list))\n",
    "print(unique_count) "
   ]
  },
  {
   "cell_type": "code",
   "execution_count": 1,
   "id": "eadb7a64",
   "metadata": {},
   "outputs": [
    {
     "name": "stdout",
     "output_type": "stream",
     "text": [
      "6\n"
     ]
    }
   ],
   "source": [
    "my_list = [1, 2, 3, 2, 4, 3, 5, 6, 1]\n",
    "unique_values = {}\n",
    "for item in my_list:\n",
    "    unique_values[item] = unique_values.get(item, 0) + 1\n",
    "unique_count = len(unique_values)\n",
    "print(unique_count) "
   ]
  },
  {
   "cell_type": "markdown",
   "id": "fed6677c",
   "metadata": {},
   "source": [
    "**31-write a python program Extract all elements with Frequency greater than K (Input : test_list = [4, 6, 4, 3, 3, 4, 3, 4, 3, 8], K = 3 \n",
    "Output : [4, 3] )**"
   ]
  },
  {
   "cell_type": "code",
   "execution_count": 9,
   "id": "152fe5fe",
   "metadata": {},
   "outputs": [
    {
     "data": {
      "text/plain": [
       "[3, 4]"
      ]
     },
     "execution_count": 9,
     "metadata": {},
     "output_type": "execute_result"
    }
   ],
   "source": [
    "l = [4, 6, 4, 3, 3, 4, 3, 4, 3, 8]\n",
    "x = []\n",
    "k = 3\n",
    "for i in l:\n",
    "    if l.count(i)>k:\n",
    "        x.append(i)\n",
    "x = set(x)\n",
    "x = list(x)\n",
    "x"
   ]
  },
  {
   "cell_type": "markdown",
   "id": "caca5224",
   "metadata": {},
   "source": [
    "**32-write a python program to find the Strongest Neighbour (Input: 1 2 2 3 4 5\n",
    "Output: 2 2 3 4 5)**"
   ]
  },
  {
   "cell_type": "code",
   "execution_count": 29,
   "id": "39fbd9b2",
   "metadata": {},
   "outputs": [
    {
     "name": "stdout",
     "output_type": "stream",
     "text": [
      "Input: [1, 2, 2, 3, 4, 5]\n",
      "Strongest Neighbors: [2, 3, 4, 5]\n"
     ]
    }
   ],
   "source": [
    "def find_strongest_neighbors(arr):\n",
    "    strongest_neighbors = []\n",
    "\n",
    "    for i in range(1, len(arr) - 1):\n",
    "        strongest_neighbors.append(max(arr[i - 1], arr[i + 1]))\n",
    "\n",
    "    return strongest_neighbors\n",
    "\n",
    "input_list = [1, 2, 2, 3, 4, 5]\n",
    "strongest_neighbors = find_strongest_neighbors(input_list)\n",
    "\n",
    "print(\"Input:\", input_list)\n",
    "print(\"Strongest Neighbors:\", strongest_neighbors)"
   ]
  },
  {
   "cell_type": "markdown",
   "id": "a9fa8baf",
   "metadata": {},
   "source": [
    "**33-write a Python Program to print all Possible Combinations from the three Digits (Input: [1, 2, 3]\n",
    "Output:\n",
    "1 2 3 ##\n",
    "1 3 2 ##\n",
    "2 1 3 ##\n",
    "2 3 1 ##\n",
    "3 1 2 ##\n",
    "3 2 1)**"
   ]
  },
  {
   "cell_type": "code",
   "execution_count": 28,
   "id": "8c520a76",
   "metadata": {},
   "outputs": [
    {
     "name": "stdout",
     "output_type": "stream",
     "text": [
      "1 2 3 ## 1 3 2 ## 2 1 3 ## 2 3 1 ## 3 1 2 ## 3 2 1 ## "
     ]
    }
   ],
   "source": [
    "def comb(L):\n",
    "    for i in range(3):\n",
    "        for j in range(3):\n",
    "            for k in range(3):\n",
    "                if (i!=j and j!=k and i!=k):\n",
    "                    print(L[i], L[j] , L[k],'##', end=' ')\n",
    "comb([1, 2, 3])"
   ]
  },
  {
   "cell_type": "markdown",
   "id": "5288bb89",
   "metadata": {},
   "source": [
    "**34-write a Python program to find all the Combinations in the list with the given condition (Input: test_list = [1,2,3] \n",
    "Output: \n",
    " [1], [1, 2], [1, 2, 3], [1, 3]\n",
    " [2], [2, 3], [3])**"
   ]
  },
  {
   "cell_type": "code",
   "execution_count": 22,
   "id": "59b89646",
   "metadata": {},
   "outputs": [
    {
     "data": {
      "text/plain": [
       "[[], [1], [2], [2, 1], [3], [3, 1], [3, 2], [3, 2, 1]]"
      ]
     },
     "execution_count": 22,
     "metadata": {},
     "output_type": "execute_result"
    }
   ],
   "source": [
    "def combs(a):\n",
    "    if len(a) == 0:\n",
    "        return [[]]\n",
    "    cs = []\n",
    "    for c in combs(a[1:]):\n",
    "        cs += [c, c+[a[0]]]\n",
    "    return cs\n",
    "\n",
    "combs([1,2,3])"
   ]
  },
  {
   "cell_type": "markdown",
   "id": "39973705",
   "metadata": {},
   "source": [
    "**35-write a Python program to get all unique combinations of two Lists (List_1 = [\"a\",\"b\"]\n",
    "List_2 = [1,2]\n",
    "Unique_combination = [[('a',1),('b',2)],[('a',2),('b',1)]] )**"
   ]
  },
  {
   "cell_type": "code",
   "execution_count": 28,
   "id": "8c4ba22b",
   "metadata": {},
   "outputs": [
    {
     "name": "stdout",
     "output_type": "stream",
     "text": [
      "[('a', 2), ('a', 2), ('b', 2), ('b', 2)]\n"
     ]
    }
   ],
   "source": [
    "list_1 =  [\"a\",\"b\"]\n",
    "list_2 = [1,2]\n",
    "\n",
    "unique_combinations = []\n",
    "\n",
    "for i in range(len(list_1)):\n",
    "    for x in range(len(list_2)):\n",
    "        unique_combinations.append((list_1[i], list_2[j]))\n",
    "print(unique_combinations)"
   ]
  },
  {
   "cell_type": "markdown",
   "id": "25199af5",
   "metadata": {},
   "source": [
    "**36-Remove all the occurrences of an element from a list in Python (Input : 1 1 2 3 4 5 1 2 1 \n",
    "Output :2 3 4 5 2)**"
   ]
  },
  {
   "cell_type": "code",
   "execution_count": 29,
   "id": "6dc4c2ba",
   "metadata": {},
   "outputs": [
    {
     "data": {
      "text/plain": [
       "[1, 2, 3, 4, 5]"
      ]
     },
     "execution_count": 29,
     "metadata": {},
     "output_type": "execute_result"
    }
   ],
   "source": [
    "l = [ 1 ,1 ,2 ,3 ,4 ,5 ,1 ,2 ,1 ]\n",
    "l = set(l)\n",
    "l = list(l)\n",
    "l"
   ]
  },
  {
   "cell_type": "markdown",
   "id": "bf1a3c93",
   "metadata": {},
   "source": [
    "**37-write a python program to Replace index elements with elements in Other List (The original list 1 is : [‘Gfg’, ‘is’, ‘best’] The original list 2 is : [0, 1, 2, 1, 0, 0, 0, 2, 1, 1, 2, 0] The lists after index elements replacements is : [‘Gfg’, ‘is’, ‘best’, ‘is’, ‘Gfg’, ‘Gfg’, ‘Gfg’, ‘best’, ‘is’, ‘is’, ‘best’, ‘Gfg’])**"
   ]
  },
  {
   "cell_type": "code",
   "execution_count": 32,
   "id": "fdd66a71",
   "metadata": {},
   "outputs": [
    {
     "name": "stdout",
     "output_type": "stream",
     "text": [
      "The lists after index elements replacements is: ['Gfg', 'is', 'best', 'is', 'Gfg', 'Gfg', 'Gfg', 'best', 'is', 'is', 'best', 'Gfg']\n"
     ]
    }
   ],
   "source": [
    "test_list1 = ['Gfg', 'is', 'best']\n",
    "test_list2 = [0, 1, 2, 1, 0, 0, 0, 2, 1, 1, 2, 0]\n",
    "\n",
    "res = []\n",
    "for index in test_list2:\n",
    "    res.append(test_list1[index])\n",
    "\n",
    "print(\"The lists after index elements replacements is:\", res)"
   ]
  },
  {
   "cell_type": "markdown",
   "id": "af0f56e8",
   "metadata": {},
   "source": [
    "**38- write python program to Retain records with N occurrences of K(Input : test_list = [(4, 5, 5, 4), (5, 4, 3)], K = 5, N = 2 \n",
    "Output : [(4, 5, 5, 4)]\n",
    "Input : test_list = [(4, 5, 5, 4), (5, 4, 3)], K = 5, N = 3 \n",
    "Output : [] )**"
   ]
  },
  {
   "cell_type": "code",
   "execution_count": 8,
   "id": "67b06671",
   "metadata": {},
   "outputs": [
    {
     "name": "stdout",
     "output_type": "stream",
     "text": [
      "K = 5\n",
      "N = 2\n",
      "Filtered tuples : [(4, 5, 5, 4)]\n"
     ]
    }
   ],
   "source": [
    "test_list = [(4, 5, 5, 4), (5, 4, 3)]\n",
    "\n",
    "K = int(input('K = '))\n",
    "\n",
    "N = int(input('N = '))\n",
    "\n",
    "res = []\n",
    "for i in test_list:\n",
    "    if i.count(K) == N:\n",
    "        res.append(i)\n",
    "print(\"Filtered tuples : \" + str(res))"
   ]
  },
  {
   "cell_type": "markdown",
   "id": "de76f183",
   "metadata": {},
   "source": [
    "**39-write a Python Program to Sort the list according to the column using lambda\n",
    "array = [[1, 3, 3], [2, 1, 2], [3, 2, 1]]\n",
    "Output :\n",
    "Sorted array specific to column 0, [[1, 3, 3], [2, 1, 2], [3, 2, 1]]\n",
    "Sorted array specific to column 1, [[2, 1, 2], [3, 2, 1], [1, 3, 3]]\n",
    "Sorted array specific to column 2, [[3, 2, 1], [2, 1, 2], [1, 3, 3]]**"
   ]
  },
  {
   "cell_type": "code",
   "execution_count": 9,
   "id": "dc883308",
   "metadata": {},
   "outputs": [
    {
     "name": "stdout",
     "output_type": "stream",
     "text": [
      "Original array: [[1, 3, 3], [2, 1, 2], [3, 2, 1]]\n",
      "Sorted array specific to column 0: [[1, 3, 3], [2, 1, 2], [3, 2, 1]]\n",
      "Sorted array specific to column 1: [[2, 1, 2], [3, 2, 1], [1, 3, 3]]\n",
      "Sorted array specific to column 2: [[3, 2, 1], [2, 1, 2], [1, 3, 3]]\n"
     ]
    }
   ],
   "source": [
    "array = [[1, 3, 3], [2, 1, 2], [3, 2, 1]]\n",
    "\n",
    "def sort_by_column(arr, column):\n",
    "    sorted_arr = sorted(arr, key=lambda x: x[column])\n",
    "    return sorted_arr\n",
    "\n",
    "print(\"Original array:\", array)\n",
    "\n",
    "sorted_column_0 = sort_by_column(array, 0)\n",
    "print(\"Sorted array specific to column 0:\", sorted_column_0)\n",
    "\n",
    "sorted_column_1 = sort_by_column(array, 1)\n",
    "print(\"Sorted array specific to column 1:\", sorted_column_1)\n",
    "\n",
    "sorted_column_2 = sort_by_column(array, 2)\n",
    "print(\"Sorted array specific to column 2:\", sorted_column_2)\n"
   ]
  },
  {
   "cell_type": "code",
   "execution_count": null,
   "id": "142028b1",
   "metadata": {},
   "outputs": [],
   "source": [
    "** 40- write a program to Sort Python Dictionaries by Key or Value\n",
    "Input:\n",
    "{'ravi': 10, 'rajnish': 9, 'sanjeev': 15, 'yash': 2, 'suraj': 32}\n",
    "\n",
    "Output: \n",
    "{'rajnish': 9, 'ravi': 10, 'sanjeev': 15, 'suraj': 32, 'yash': 2}"
   ]
  },
  {
   "cell_type": "code",
   "execution_count": 12,
   "id": "a96db4a0",
   "metadata": {},
   "outputs": [
    {
     "name": "stdout",
     "output_type": "stream",
     "text": [
      "{'rajnish': 9, 'ravi': 10, 'sanjeev': 15, 'suraj': 32, 'yash': 2}\n"
     ]
    }
   ],
   "source": [
    "myDict = {'ravi': 10, 'rajnish': 9, 'sanjeev': 15, 'yash': 2, 'suraj': 32}\n",
    "\n",
    "sorted_keys = sorted(myDict.keys())\n",
    "\n",
    "sorted_dict = {}\n",
    "for key in sorted_keys:\n",
    "    sorted_dict[key] = myDict[key]\n",
    "\n",
    "print(sorted_dict)"
   ]
  },
  {
   "cell_type": "markdown",
   "id": "ec63c23a",
   "metadata": {},
   "source": [
    "**41-write python program to Remove keys with Values Greater than K ( Including mixed values )\n",
    "input : test_dict = {‘Gfg’ : 3, ‘is’ : 7, ‘best’ : 10, ‘for’ : 6, ‘geeks’ : ‘CS’},\n",
    "K = 7 \n",
    "Output : {‘Gfg’ : 3, ‘for’ : 6, ‘geeks’ : ‘CS’}**"
   ]
  },
  {
   "cell_type": "code",
   "execution_count": 21,
   "id": "e39c3a40",
   "metadata": {},
   "outputs": [
    {
     "name": "stdout",
     "output_type": "stream",
     "text": [
      "{'Gfg': 3, 'is': 7, 'for': 6, 'geeks': 'CS'}\n"
     ]
    }
   ],
   "source": [
    "def remove_keys_greater_than_k(input_dict, k):\n",
    "    result_dict = {}\n",
    "    for key, value in input_dict.items():\n",
    "        if isinstance(value, int) and value > k:\n",
    "            continue\n",
    "        result_dict[key] = value\n",
    "    return result_dict\n",
    "\n",
    "test_dict = {'Gfg': 3, 'is': 7, 'best': 10, 'for': 6, 'geeks': 'CS'}\n",
    "K = 7\n",
    "\n",
    "filtered_dict = remove_keys_greater_than_k(test_dict, K)\n",
    "print(filtered_dict)"
   ]
  },
  {
   "cell_type": "markdown",
   "id": "f143f0fe",
   "metadata": {},
   "source": [
    "**42-Write a Python program to concatenate the following dictionaries to create a new one\n",
    "\n",
    "Sample Dictionary :\n",
    "dic1={1:10, 2:20}\n",
    "dic2={3:30, 4:40}\n",
    "dic3={5:50,6:60}\n",
    "Expected Result : {1: 10, 2: 20, 3: 30, 4: 40, 5: 50, 6: 60}"
   ]
  },
  {
   "cell_type": "code",
   "execution_count": 22,
   "id": "74ffdfea",
   "metadata": {},
   "outputs": [
    {
     "name": "stdout",
     "output_type": "stream",
     "text": [
      "{1: 10, 2: 20, 3: 30, 4: 40, 5: 50, 6: 60}\n"
     ]
    }
   ],
   "source": [
    "dic1 = {1: 10, 2: 20}\n",
    "dic2 = {3: 30, 4: 40}\n",
    "dic3 = {5: 50, 6: 60}\n",
    "\n",
    "concatenated_dict = {}\n",
    "for i in (dic1, dic2, dic3):\n",
    "    concatenated_dict.update(i)\n",
    "\n",
    "print(concatenated_dict)\n"
   ]
  },
  {
   "cell_type": "markdown",
   "id": "fb04c93c",
   "metadata": {},
   "source": [
    "**43-Write a Python program to iterate over dictionaries using for loops**"
   ]
  },
  {
   "cell_type": "code",
   "execution_count": 6,
   "id": "6aebc470",
   "metadata": {},
   "outputs": [
    {
     "name": "stdout",
     "output_type": "stream",
     "text": [
      "Iterating over key-value pairs:\n",
      "name: Hussien\n",
      "age: 21\n",
      "email: hussienfarg89@gmail.com\n"
     ]
    }
   ],
   "source": [
    "my_dict = {'name' : 'Hussien' , 'age' : '21' , 'email' : 'hussienfarg89@gmail.com'}\n",
    "print(\"Iterating over key-value pairs:\")\n",
    "for key, value in my_dict.items():\n",
    "    print(f\"{key}: {value}\")"
   ]
  },
  {
   "cell_type": "markdown",
   "id": "5f491a9d",
   "metadata": {},
   "source": [
    "**44- Write a Python script to merge two Python dictionaries**"
   ]
  },
  {
   "cell_type": "code",
   "execution_count": 8,
   "id": "b8a14028",
   "metadata": {},
   "outputs": [
    {
     "name": "stdout",
     "output_type": "stream",
     "text": [
      "{'a': 100, 'b': 200, 'x': 300, 'y': 200}\n"
     ]
    }
   ],
   "source": [
    "d1 = {'a': 100, 'b': 200}\n",
    "d2 = {'x': 300, 'y': 200}\n",
    "d = d1.copy()\n",
    "d.update(d2)\n",
    "print(d)"
   ]
  },
  {
   "cell_type": "markdown",
   "id": "216fc72d",
   "metadata": {},
   "source": [
    "**45-Write a Python program to get the maximum and minimum values of a dictionary values**"
   ]
  },
  {
   "cell_type": "code",
   "execution_count": 10,
   "id": "d6883f5f",
   "metadata": {},
   "outputs": [
    {
     "name": "stdout",
     "output_type": "stream",
     "text": [
      "Maximum Value:  9874\n",
      "Minimum Value:  700\n"
     ]
    }
   ],
   "source": [
    "my_dict = {'x':700, 'y':9874, 'z': 860}\n",
    "\n",
    "key_max = max(my_dict.keys(), key=(lambda k: my_dict[k]))\n",
    "key_min = min(my_dict.keys(), key=(lambda k: my_dict[k]))\n",
    "\n",
    "print('Maximum Value: ',my_dict[key_max])\n",
    "print('Minimum Value: ',my_dict[key_min])"
   ]
  },
  {
   "cell_type": "markdown",
   "id": "b6a53011",
   "metadata": {},
   "source": [
    "**46- Write a Python program to drop empty items from a given dictionary.\n",
    "Original Dictionary:\n",
    "{'c1': 'Red', 'c2': 'Green', 'c3': None}\n",
    "New Dictionary after dropping empty items:\n",
    "{'c1': 'Red', 'c2': 'Green'}**"
   ]
  },
  {
   "cell_type": "code",
   "execution_count": 13,
   "id": "b5c6fecf",
   "metadata": {},
   "outputs": [
    {
     "name": "stdout",
     "output_type": "stream",
     "text": [
      "New Dictionary after dropping empty items:\n",
      "{'c1': 'Red', 'c2': 'Green'}\n"
     ]
    }
   ],
   "source": [
    "dict1 = {'c1': 'Red', 'c2': 'Green', 'c3':None}\n",
    "\n",
    "new_dict = {}\n",
    "for key, value in dict1.items():\n",
    "    if value is not None:\n",
    "        new_dict[key] = value\n",
    "\n",
    "print(\"New Dictionary after dropping empty items:\")\n",
    "print(new_dict)"
   ]
  },
  {
   "cell_type": "markdown",
   "id": "46d718c7",
   "metadata": {},
   "source": [
    "**47-Write a Python program to create a tuple of numbers and print one item**"
   ]
  },
  {
   "cell_type": "code",
   "execution_count": 24,
   "id": "13216ff5",
   "metadata": {},
   "outputs": [
    {
     "name": "stdout",
     "output_type": "stream",
     "text": [
      "(5, 10, 15, 20, 25)\n",
      "(5,)\n"
     ]
    }
   ],
   "source": [
    "Tuple = (5, 10, 15, 20, 25)\n",
    "print(Tuple)\n",
    "Tuple = 5,\n",
    "print(Tuple)"
   ]
  },
  {
   "cell_type": "markdown",
   "id": "2be5b56b",
   "metadata": {},
   "source": [
    "**48-Write a Python program to unpack a tuple into several variables**"
   ]
  },
  {
   "cell_type": "code",
   "execution_count": 27,
   "id": "595f44be",
   "metadata": {},
   "outputs": [
    {
     "name": "stdout",
     "output_type": "stream",
     "text": [
      "4 8 3\n"
     ]
    }
   ],
   "source": [
    "Tuple = (4, 8, 3) \n",
    "\n",
    "n1, n2, n3 = Tuple\n",
    "\n",
    "print(n1 , n2 , n3) \n",
    " "
   ]
  },
  {
   "cell_type": "markdown",
   "id": "392388a7",
   "metadata": {},
   "source": [
    "**49-Write a Python program to add an item to a tuple**"
   ]
  },
  {
   "cell_type": "code",
   "execution_count": 28,
   "id": "54cc092e",
   "metadata": {},
   "outputs": [
    {
     "name": "stdout",
     "output_type": "stream",
     "text": [
      "(4, 8, 3, 9)\n"
     ]
    }
   ],
   "source": [
    "Tuple = (4, 8, 3)\n",
    "Tuple = Tuple + (9,)\n",
    "print(Tuple)"
   ]
  },
  {
   "cell_type": "markdown",
   "id": "3e8fd124",
   "metadata": {},
   "source": [
    "**50-Write a Python program to convert a tuple to a string**"
   ]
  },
  {
   "cell_type": "code",
   "execution_count": 31,
   "id": "92a71ddc",
   "metadata": {},
   "outputs": [
    {
     "name": "stdout",
     "output_type": "stream",
     "text": [
      "exercises\n"
     ]
    }
   ],
   "source": [
    "Tuple = ('e', 'x', 'e', 'r', 'c', 'i', 's', 'e', 's')\n",
    "str =  ''.join(Tuple)\n",
    "print(str)\n"
   ]
  },
  {
   "cell_type": "markdown",
   "id": "f4f64ef4",
   "metadata": {},
   "source": [
    "**51-Write a Python program to convert a list to a tuple**"
   ]
  },
  {
   "cell_type": "code",
   "execution_count": 32,
   "id": "210d56d3",
   "metadata": {},
   "outputs": [
    {
     "name": "stdout",
     "output_type": "stream",
     "text": [
      "[5, 10, 7, 4, 15, 3]\n",
      "(5, 10, 7, 4, 15, 3)\n"
     ]
    }
   ],
   "source": [
    "List = [5, 10, 7, 4, 15, 3]\n",
    "print(List)\n",
    "\n",
    "Tuple = tuple(List)\n",
    "print(Tuple)\n"
   ]
  },
  {
   "cell_type": "markdown",
   "id": "b1e00ef7",
   "metadata": {},
   "source": [
    "**52-Write a Python program to reverse a tuple**"
   ]
  },
  {
   "cell_type": "code",
   "execution_count": 1,
   "id": "f45bfdc7",
   "metadata": {},
   "outputs": [
    {
     "name": "stdout",
     "output_type": "stream",
     "text": [
      "(20, 15, 10, 5)\n"
     ]
    }
   ],
   "source": [
    "x = (5, 10, 15, 20)\n",
    "\n",
    "y = reversed(x)\n",
    "print(tuple(y))"
   ]
  },
  {
   "cell_type": "markdown",
   "id": "3cd347d1",
   "metadata": {},
   "source": [
    "**53-Write a Python program to replace the last value of tuples in a list.\n",
    "Sample list: [(10, 20, 40), (40, 50, 60), (70, 80, 90)]\n",
    "Expected Output: [(10, 20, 100), (40, 50, 100), (70, 80, 100)]**"
   ]
  },
  {
   "cell_type": "code",
   "execution_count": 3,
   "id": "3c4a2a4c",
   "metadata": {},
   "outputs": [
    {
     "name": "stdout",
     "output_type": "stream",
     "text": [
      "(10, 20, 100)\n",
      "(40, 50, 100)\n",
      "(70, 80, 100)\n"
     ]
    }
   ],
   "source": [
    "l = [(10, 20, 40), (40, 50, 60), (70, 80, 90)]\n",
    "for t in l:\n",
    "    print(t[:-1] + (100,))"
   ]
  },
  {
   "cell_type": "markdown",
   "id": "76bb7b39",
   "metadata": {},
   "source": [
    "**54-Write a Python program to convert a given string list to a tuple\n",
    "Original string: python 3.0\n",
    "<class 'str'>\n",
    "Convert the said string to a tuple:\n",
    "('p', 'y', 't', 'h', 'o', 'n', '3', '.', '0')**"
   ]
  },
  {
   "cell_type": "code",
   "execution_count": 10,
   "id": "51951937",
   "metadata": {},
   "outputs": [
    {
     "name": "stdout",
     "output_type": "stream",
     "text": [
      "<class 'str'>\n",
      "Convert the said string to a tuple:\n",
      "('p', 'y', 't', 'h', 'o', 'n', '3', '.', '0')\n",
      "<class 'tuple'>\n"
     ]
    }
   ],
   "source": [
    "def string_list_to_tuple(str1):\n",
    "    result = tuple(x for x in str1 if not x.isspace()) \n",
    "    return result\n",
    "str1 = \"python 3.0\"\n",
    "print(type(str1))\n",
    "print(\"Convert the said string to a tuple:\") \n",
    "print(string_list_to_tuple(str1))\n",
    "print(type(string_list_to_tuple(str1)))\n"
   ]
  },
  {
   "cell_type": "markdown",
   "id": "5a1d5d97",
   "metadata": {},
   "source": [
    "**55-Write a Python program to calculate the average value of the numbers in a given tuple of tuples**"
   ]
  },
  {
   "cell_type": "code",
   "execution_count": 11,
   "id": "834e7992",
   "metadata": {},
   "outputs": [
    {
     "name": "stdout",
     "output_type": "stream",
     "text": [
      "Original Tuple: \n",
      "((10, 10, 10, 12), (30, 45, 56, 45), (81, 80, 39, 32), (1, 2, 3, 4))\n",
      "\n",
      "Average value of the numbers of the said tuple of tuples:\n",
      " [30.5, 34.25, 27.0, 23.25]\n"
     ]
    }
   ],
   "source": [
    "def average_tuple(nums):\n",
    "    result = [sum(x) / len(x) for x in zip(*nums)]\n",
    "    return result\n",
    "\n",
    "nums = ((10, 10, 10, 12), (30, 45, 56, 45), (81, 80, 39, 32), (1, 2, 3, 4))\n",
    "print (\"Original Tuple: \")\n",
    "print(nums)\n",
    "print(\"\\nAverage value of the numbers of the said tuple of tuples:\\n\",average_tuple(nums))"
   ]
  },
  {
   "cell_type": "markdown",
   "id": "51edab9c",
   "metadata": {},
   "source": [
    "**56-Write a Python program to add member(s) to a set.**"
   ]
  },
  {
   "cell_type": "code",
   "execution_count": 14,
   "id": "2b65df79",
   "metadata": {},
   "outputs": [
    {
     "name": "stdout",
     "output_type": "stream",
     "text": [
      "{'Red'}\n",
      "{'Blue', 'Green', 'Red'}\n"
     ]
    }
   ],
   "source": [
    "color_set = set()\n",
    "color_set.add(\"Red\")\n",
    "print(color_set)\n",
    "color_set.update([\"Blue\", \"Green\"])\n",
    "print(color_set)"
   ]
  },
  {
   "cell_type": "markdown",
   "id": "965590cc",
   "metadata": {},
   "source": [
    "**57-Write a Python program to remove an item from a set if it is present in the set.**"
   ]
  },
  {
   "cell_type": "code",
   "execution_count": 18,
   "id": "866bab28",
   "metadata": {},
   "outputs": [
    {
     "name": "stdout",
     "output_type": "stream",
     "text": [
      "Original set elements:\n",
      "{0, 1, 2, 3, 4, 5}\n",
      "Remove 0 from the said set:\n",
      "{0, 1, 2, 3, 5}\n"
     ]
    }
   ],
   "source": [
    "num_set = set([0, 1, 2, 3, 4, 5])\n",
    "print(\"Original set elements:\")\n",
    "print(num_set)\n",
    "print(\"Remove 0 from the said set:\")\n",
    "num_set.discard(4)\n",
    "print(num_set)"
   ]
  },
  {
   "cell_type": "markdown",
   "id": "2b7cfed1",
   "metadata": {},
   "source": [
    "**58-Write a Python program to create an intersection,union,difference and symmetric difference of sets**"
   ]
  },
  {
   "cell_type": "code",
   "execution_count": 19,
   "id": "7f94b7fe",
   "metadata": {},
   "outputs": [
    {
     "name": "stdout",
     "output_type": "stream",
     "text": [
      "Union : {0, 1, 2, 3, 4, 5, 6, 8}\n",
      "Intersection : {2, 4}\n",
      "Difference : {0, 8, 6}\n",
      "Symmetric difference : {0, 1, 3, 5, 6, 8}\n"
     ]
    }
   ],
   "source": [
    "A = {0, 2, 4, 6, 8};\n",
    "B = {1, 2, 3, 4, 5};\n",
    "print(\"Union :\", A | B)\n",
    "print(\"Intersection :\", A & B)\n",
    "print(\"Difference :\", A - B)\n",
    "print(\"Symmetric difference :\", A ^ B)"
   ]
  },
  {
   "cell_type": "markdown",
   "id": "b94931e2",
   "metadata": {},
   "source": [
    "**59-Write a Python program to find the maximum and minimum values in a set**"
   ]
  },
  {
   "cell_type": "code",
   "execution_count": 25,
   "id": "203f9600",
   "metadata": {},
   "outputs": [
    {
     "name": "stdout",
     "output_type": "stream",
     "text": [
      "Maximum value: \n",
      "20\n",
      "Minimum value: \n",
      "2\n"
     ]
    }
   ],
   "source": [
    "Set = {5, 10, 3, 15, 2, 20}\n",
    "print(\"Maximum value: \")\n",
    "print(max(Set))\n",
    "print(\"Minimum value: \")\n",
    "print(min(Set))\n"
   ]
  },
  {
   "cell_type": "markdown",
   "id": "255fd554",
   "metadata": {},
   "source": [
    "**60- Write a Python program that finds all pairs of elements in a list whose sum is equal to a given value.**"
   ]
  },
  {
   "cell_type": "code",
   "execution_count": 27,
   "id": "c2d94e1f",
   "metadata": {},
   "outputs": [
    {
     "name": "stdout",
     "output_type": "stream",
     "text": [
      "Pairs with sum 9:\n",
      "(5, 4)\n",
      "(6, 3)\n",
      "(7, 2)\n",
      "(8, 1)\n"
     ]
    }
   ],
   "source": [
    "def find_pairs_with_sum(arr, target_sum):\n",
    "    pairs = []\n",
    "    seen = set() \n",
    "    \n",
    "    for num in arr:\n",
    "        complement = target_sum - num\n",
    "        if complement in seen:\n",
    "            pairs.append((num, complement))\n",
    "        seen.add(num)\n",
    "    \n",
    "    return pairs\n",
    "\n",
    "input_list = [2, 4, 3, 5, 6, 1, 7, 8]\n",
    "target = 9\n",
    "\n",
    "pairs_with_sum = find_pairs_with_sum(input_list, target)\n",
    "\n",
    "print(f\"Pairs with sum {target}:\")\n",
    "for pair in pairs_with_sum:\n",
    "    print(pair)\n"
   ]
  }
 ],
 "metadata": {
  "kernelspec": {
   "display_name": "Python 3 (ipykernel)",
   "language": "python",
   "name": "python3"
  },
  "language_info": {
   "codemirror_mode": {
    "name": "ipython",
    "version": 3
   },
   "file_extension": ".py",
   "mimetype": "text/x-python",
   "name": "python",
   "nbconvert_exporter": "python",
   "pygments_lexer": "ipython3",
   "version": "3.11.3"
  }
 },
 "nbformat": 4,
 "nbformat_minor": 5
}
