{
 "cells": [
  {
   "cell_type": "markdown",
   "id": "5b67ee54",
   "metadata": {},
   "source": [
    "## YallaKora\n",
    "## Task 1"
   ]
  },
  {
   "cell_type": "code",
   "execution_count": 2,
   "id": "f46916e6",
   "metadata": {
    "ExecuteTime": {
     "end_time": "2023-09-01T12:53:19.595343Z",
     "start_time": "2023-09-01T12:53:16.099744Z"
    }
   },
   "outputs": [
    {
     "name": "stdout",
     "output_type": "stream",
     "text": [
      "صربيا 76 - 78 إيطاليا 11:00 بى ان سبورت 4 HD\n",
      "ألمانيا 100 - 73 جورجيا 11:30 بى ان سبورت 3 HD\n",
      "الولايات المتحدة 85 - 73 الجبل الاسود 11:40 بى ان سبورت 2 HD\n",
      "إسبانيا 32 - 34 لاتفيا 12:45 بى ان سبورت 1HD\n",
      "الدومينيكان - - - بورتوريكو 15:00 بى ان سبورت 3 HD\n",
      "سلوفينيا - - - أستراليا 15:10 بى ان سبورت 4 HD\n",
      "ليتوانيا - - - اليونان 15:40 بى ان سبورت 2 HD\n",
      "كندا - - - البرازيل 16:30 بى ان سبورت 1HD\n",
      "لوتون تاون - - - وست هام يونايتد 22:00 بى ان سبورت بريميوم 1\n",
      "قادش - - - فياريال 20:30 بى ان سبورت 1HD\n",
      "الميريا - - - سيلتا فيجو 23:00 بى ان سبورت 1HD\n",
      "الفيحاء - - - الرائد 18:00 SSc SPORT\n",
      "الطــائي - - - أبها 18:00 SSc SPORT\n",
      "الرياض - - - الأخدود 21:00 SSc SPORT\n",
      "الاتحاد - - - الهلال 21:00 SSc SPORT\n",
      "ساسولو - - - هيلاس فيرونا 19:30 Starz Play App\n",
      "روما - - - ميلان 21:45 Starz Play App\n",
      "نانت - - - مارسيليا 22:00 بى ان سبورت 2 HD\n"
     ]
    }
   ],
   "source": [
    "import requests\n",
    "from bs4 import BeautifulSoup\n",
    "\n",
    "url = 'https://www.yallakora.com/Match-Center/?date=18/21/2023'\n",
    "\n",
    "\n",
    "response = requests.get(url)\n",
    "html_content = response.content \n",
    "\n",
    "soup = BeautifulSoup(html_content, 'html.parser')\n",
    "\n",
    "championships = soup.find_all('div', class_='matchCard')\n",
    "\n",
    "for i in range(len(championships)):\n",
    "    championship = championships[i]\n",
    "    championship_name = championship.contents[1].find('h2').text.strip()\n",
    "    matches = championship.contents[3].find_all('li')\n",
    "\n",
    "    for match in matches:\n",
    "\n",
    "        teamA = match.find('div', {'class':'teamA'}).text.strip()\n",
    "        teamB = match.find('div', {'class':'teamB'}).text.strip()\n",
    "\n",
    "        results = match.find('div', {'class':'MResult'}).find_all('span', {'class':'score'})\n",
    "        score = f'{results[0].text.strip()} - {results[1].text.strip()}'\n",
    "\n",
    "        time = match.find('div', {'class':'MResult'}).find('span', {'class':'time'}).text.strip()\n",
    "        \n",
    "        try:\n",
    "            channelname = match.find('div', {'class':'allData'}).find('div', {'class':'channel'}).text.strip()\n",
    "        except :\n",
    "            continue;\n",
    "        print(teamA, score, teamB, time, channelname)\n",
    "        \n",
    "\n"
   ]
  },
  {
   "cell_type": "markdown",
   "id": "b8a94c20",
   "metadata": {},
   "source": [
    "## Book Shop\n",
    "## Task 2"
   ]
  },
  {
   "cell_type": "code",
   "execution_count": 5,
   "id": "5f7634a2",
   "metadata": {
    "ExecuteTime": {
     "end_time": "2023-09-01T13:08:37.241749Z",
     "start_time": "2023-09-01T13:08:36.167367Z"
    }
   },
   "outputs": [
    {
     "name": "stdout",
     "output_type": "stream",
     "text": [
      "Title: A Light in the Attic\n",
      "Price: £51.77\n",
      "Rating: Three\n",
      "----------\n",
      "Title: Tipping the Velvet\n",
      "Price: £53.74\n",
      "Rating: One\n",
      "----------\n",
      "Title: Soumission\n",
      "Price: £50.10\n",
      "Rating: One\n",
      "----------\n",
      "Title: Sharp Objects\n",
      "Price: £47.82\n",
      "Rating: Four\n",
      "----------\n",
      "Title: Sapiens: A Brief History of Humankind\n",
      "Price: £54.23\n",
      "Rating: Five\n",
      "----------\n",
      "Title: The Requiem Red\n",
      "Price: £22.65\n",
      "Rating: One\n",
      "----------\n",
      "Title: The Dirty Little Secrets of Getting Your Dream Job\n",
      "Price: £33.34\n",
      "Rating: Four\n",
      "----------\n",
      "Title: The Coming Woman: A Novel Based on the Life of the Infamous Feminist, Victoria Woodhull\n",
      "Price: £17.93\n",
      "Rating: Three\n",
      "----------\n",
      "Title: The Boys in the Boat: Nine Americans and Their Epic Quest for Gold at the 1936 Berlin Olympics\n",
      "Price: £22.60\n",
      "Rating: Four\n",
      "----------\n",
      "Title: The Black Maria\n",
      "Price: £52.15\n",
      "Rating: One\n",
      "----------\n",
      "Title: Starving Hearts (Triangular Trade Trilogy, #1)\n",
      "Price: £13.99\n",
      "Rating: Two\n",
      "----------\n",
      "Title: Shakespeare's Sonnets\n",
      "Price: £20.66\n",
      "Rating: Four\n",
      "----------\n",
      "Title: Set Me Free\n",
      "Price: £17.46\n",
      "Rating: Five\n",
      "----------\n",
      "Title: Scott Pilgrim's Precious Little Life (Scott Pilgrim #1)\n",
      "Price: £52.29\n",
      "Rating: Five\n",
      "----------\n",
      "Title: Rip it Up and Start Again\n",
      "Price: £35.02\n",
      "Rating: Five\n",
      "----------\n",
      "Title: Our Band Could Be Your Life: Scenes from the American Indie Underground, 1981-1991\n",
      "Price: £57.25\n",
      "Rating: Three\n",
      "----------\n",
      "Title: Olio\n",
      "Price: £23.88\n",
      "Rating: One\n",
      "----------\n",
      "Title: Mesaerion: The Best Science Fiction Stories 1800-1849\n",
      "Price: £37.59\n",
      "Rating: One\n",
      "----------\n",
      "Title: Libertarianism for Beginners\n",
      "Price: £51.33\n",
      "Rating: Two\n",
      "----------\n",
      "Title: It's Only the Himalayas\n",
      "Price: £45.17\n",
      "Rating: Two\n",
      "----------\n"
     ]
    }
   ],
   "source": [
    "import requests\n",
    "from bs4 import BeautifulSoup\n",
    "\n",
    "url = 'https://books.toscrape.com/catalogue/page-1.html'\n",
    "\n",
    "\n",
    "response = requests.get(url)\n",
    "html_content = response.content \n",
    "\n",
    "soup = BeautifulSoup(html_content, 'html.parser')\n",
    "\n",
    "books = soup.find_all('article', class_='product_pod')\n",
    "\n",
    "for book in books:\n",
    "        title = book.h3.a['title']\n",
    "        price = book.find('p', class_='price_color').text\n",
    "        rating = 'No rating' if 'star-rating' not in str(book) else book.find('p', class_='star-rating')['class'][-1]\n",
    "\n",
    "        print(f\"Title: {title}\")\n",
    "        print(f\"Price: {price}\")\n",
    "        print(f\"Rating: {rating}\")\n",
    "\n",
    "        print(\"----------\")"
   ]
  }
 ],
 "metadata": {
  "kernelspec": {
   "display_name": "Python 3 (ipykernel)",
   "language": "python",
   "name": "python3"
  },
  "language_info": {
   "codemirror_mode": {
    "name": "ipython",
    "version": 3
   },
   "file_extension": ".py",
   "mimetype": "text/x-python",
   "name": "python",
   "nbconvert_exporter": "python",
   "pygments_lexer": "ipython3",
   "version": "3.11.3"
  }
 },
 "nbformat": 4,
 "nbformat_minor": 5
}
